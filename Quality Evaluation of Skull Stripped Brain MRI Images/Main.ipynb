{
 "cells": [
  {
   "cell_type": "code",
   "execution_count": null,
   "id": "309e0ff2-a875-4e66-9f1e-a1760aeb7ac2",
   "metadata": {},
   "outputs": [],
   "source": [
    "import torch\n",
    "import tensorflow as tf\n",
    "import pandas as pd\n",
    "import nibabel as nib\n",
    "import numpy as np\n",
    "import matplotlib.pyplot as plt\n",
    "import keras\n",
    "from sklearn.model_selection import train_test_split\n",
    "from keras.models import Sequential\n",
    "from keras.layers import Conv3D, MaxPooling3D, Dense, Flatten, Dropout\n",
    "from keras.utils import to_categorical\n",
    "import sys\n",
    "import os\n",
    "\n"
   ]
  },
  {
   "cell_type": "code",
   "execution_count": null,
   "id": "a6e0b09e-24a1-4183-8b89-207c50e528f8",
   "metadata": {},
   "outputs": [],
   "source": [
    "# !wget https://dyslexia.computing.clemson.edu/BET_BSE/BSE_BET_DATA.zip --no-check-certificate"
   ]
  },
  {
   "cell_type": "code",
   "execution_count": null,
   "id": "c6863e33-4f6f-4ef1-a8d5-dfa6d35f0654",
   "metadata": {},
   "outputs": [],
   "source": [
    "# !unzip BSE_BET_DATA.zip"
   ]
  },
  {
   "cell_type": "code",
   "execution_count": null,
   "id": "61e6d89e-f15b-4c05-a25b-9e450fa09919",
   "metadata": {},
   "outputs": [],
   "source": [
    "label_file=pd.read_csv(\"BSE_BET_DATA/labels.csv\")"
   ]
  },
  {
   "cell_type": "code",
   "execution_count": null,
   "id": "90078477-a417-4aa2-a67d-297913c9bbba",
   "metadata": {},
   "outputs": [],
   "source": [
    "model = Sequential()\n",
    "\n",
    "model.add(Conv3D(64, kernel_size=(2, 2, 2), activation='relu', input_shape=(128, 128, 75, 1)))\n",
    "model.add(MaxPooling3D(pool_size=(2, 2, 2)))\n",
    "#model.add(Dropout(0.5))\n",
    "model.add(Conv3D(64, kernel_size=(2, 2, 2), activation='relu'))\n",
    "model.add(MaxPooling3D(pool_size=(2, 2, 2)))\n",
    "#model.add(Dense(16,activation='relu'))\n",
    "#model.add(Dropout(0.5))\n",
    "model.add(Conv3D(64, kernel_size=(2, 2, 2), activation='relu'))\n",
    "model.add(MaxPooling3D(pool_size=(2, 2, 2)))\n",
    "model.add(Flatten())\n",
    "model.add(Dense(32, activation='relu'))\n",
    "model.add(Dropout(0.5))\n",
    "model.add(Dense(4, activation='sigmoid'))\n",
    "model.summary()\n"
   ]
  },
  {
   "cell_type": "code",
   "execution_count": null,
   "id": "f89358a8-bbd0-4b6e-b24a-37fccf80f554",
   "metadata": {},
   "outputs": [],
   "source": [
    "model=tf.keras.models.load_model('MRI_Classification_Model_v5.h5')\n",
    "model.summary()"
   ]
  },
  {
   "cell_type": "code",
   "execution_count": null,
   "id": "0eb3d3e9-e957-4e97-b41d-503428799304",
   "metadata": {},
   "outputs": [],
   "source": [
    "# import gzip\n",
    "# import shutil\n",
    "\n",
    "# def unzip_gz_files(folder_path):\n",
    "#     for filename in os.listdir(folder_path):\n",
    "#         if filename.endswith(\".gz\"):\n",
    "#             file_path = os.path.join(folder_path, filename)\n",
    "#             unzipped_file_path = os.path.join(folder_path, filename[:-3])  # Remove .gz extension\n",
    "            \n",
    "#             with gzip.open(file_path, 'rb') as gz_file:\n",
    "#                 with open(unzipped_file_path, 'wb') as unzipped_file:\n",
    "#                     shutil.copyfileobj(gz_file, unzipped_file)\n",
    "#             os.remove(file_path)\n",
    "\n",
    "# folder_path = \"BSE_BET_DATA/files\"\n",
    "# unzip_gz_files(folder_path)"
   ]
  },
  {
   "cell_type": "code",
   "execution_count": null,
   "id": "b446e9e6-509a-48fc-a1e7-9f41fd545963",
   "metadata": {},
   "outputs": [],
   "source": [
    "test_load = nib.load('sample_nii_for_test/la_003.nii').get_fdata()\n",
    "test_load.shape"
   ]
  },
  {
   "cell_type": "code",
   "execution_count": null,
   "id": "14b6a090-2928-4521-b223-549e08216355",
   "metadata": {},
   "outputs": [],
   "source": [
    "\n",
    "\n",
    "\n",
    "def load_data(data_folder, labels_file):\n",
    "    images = []\n",
    "    labels = []\n",
    "    max_depth = 150\n",
    "    count=0\n",
    "   \n",
    "    for idx in range(len(label_file)):\n",
    "        count+=1\n",
    "        print(count)\n",
    "        line=label_file[\"Filename\"][idx] + \" \" + str(int(label_file[\"Recognizable-Facial-Feature\"][idx]==\"Yes\")) + \" \"+str(int(label_file[\"Brain-Feature-Loss\"][idx]==\"Yes\"))\n",
    "        filename, label, labelTwo = line.strip().split()\n",
    "        filepath = os.path.join(data_folder, filename)\n",
    "        img = nib.load(filepath).get_fdata()\n",
    "\n",
    "\n",
    "        \n",
    "        img = np.pad(img, ((0, 0), (0, 0), (0, max_depth - img.shape[2])),\n",
    "                     mode='constant')\n",
    "        img = np.expand_dims(img, axis=3)\n",
    "        images.append(img)\n",
    "        \n",
    "\n",
    "        if(int(label)==0 and int(labelTwo)==0):\n",
    "            labels.append(0)\n",
    "        elif(int(label)==1 and int(labelTwo)==0):\n",
    "            labels.append(1)\n",
    "        elif(int(label)==0 and int(labelTwo)==1):\n",
    "            labels.append(2)\n",
    "        else:\n",
    "            labels.append(3)\n",
    "\n",
    "    images = np.array(images).astype(np.float32)\n",
    "    labels = to_categorical(labels, num_classes=4)\n",
    "    \n",
    "    return images, labels\n",
    "\n",
    "data_folder = \"BSE_BET_DATA/files\"\n",
    "labels_file = \"BSE_BET_DATA/labels.csv\"\n",
    "\n",
    "images, labels = load_data(data_folder, labels_file)\n"
   ]
  },
  {
   "cell_type": "code",
   "execution_count": null,
   "id": "3e065bd1-7cb7-49ac-9a3c-b5a1798ee102",
   "metadata": {},
   "outputs": [],
   "source": [
    "\n",
    "X_train, X_test, y_train, y_test = train_test_split(images, labels,\n",
    "                                                    test_size=0.2,\n",
    "                                                    random_state=42)"
   ]
  },
  {
   "cell_type": "code",
   "execution_count": null,
   "id": "a12aa14a-1005-4286-a73b-aacef560e3fc",
   "metadata": {},
   "outputs": [],
   "source": [
    "tf.debugging.set_log_device_placement(True)\n",
    "\n",
    "if tf.test.gpu_device_name():\n",
    "    print(\"Default GPU Device: {}\".format(tf.test.gpu_device_name()))\n",
    "else:\n",
    "    print(\"Please install GPU version of TF\")\n"
   ]
  },
  {
   "cell_type": "code",
   "execution_count": null,
   "id": "ac913f7b-8ad3-4ec0-998e-a10f3fd3c485",
   "metadata": {},
   "outputs": [],
   "source": [
    "\n",
    "history=None\n",
    "tf.debugging.set_log_device_placement(True)\n",
    "with tf.device(\"/GPU:0\"):\n",
    "    model = Sequential()\n",
    "    model.add(Conv3D(16, kernel_size=(2, 2, 2), activation='relu', input_shape=(256, 256, 150, 1)))\n",
    "    model.add(MaxPooling3D(pool_size=(2, 2, 2)))\n",
    "    model.add(Conv3D(16, kernel_size=(2, 2, 2), activation='relu'))\n",
    "    model.add(MaxPooling3D(pool_size=(2, 2, 2)))\n",
    "    model.add(Conv3D(16, kernel_size=(2, 2, 2), activation='relu'))\n",
    "    model.add(MaxPooling3D(pool_size=(2, 2, 2)))\n",
    "    model.add(Flatten())\n",
    "    model.add(Dense(16, activation='relu'))\n",
    "    model.add(Dropout(0.5))\n",
    "    model.add(Dense(4, activation='softmax'))\n",
    "    \n",
    "    print(model.count_params())\n",
    "    \n",
    "    print(\"compiling\")\n",
    "    model.compile(loss='categorical_crossentropy', optimizer='adam', metrics=['accuracy'])\n",
    "    # device = torch.device('cuda') if torch.cuda.is_available() else torch.device('cpu')\n",
    "    # model.to(device)\n",
    "    print(\"training\")\n",
    "    \n",
    "    history=model.fit(X_train, y_train, batch_size=8, epochs=20, verbose=1, validation_data=(X_test, y_test))\n",
    "\n",
    "    # Save the model\n"
   ]
  },
  {
   "cell_type": "code",
   "execution_count": null,
   "id": "743fc600-1ea6-4d07-893f-0dacfab1e641",
   "metadata": {},
   "outputs": [],
   "source": [
    "model.save(\"MRI_Classification_Model_v2.h5\")"
   ]
  },
  {
   "cell_type": "code",
   "execution_count": null,
   "id": "4799e85b-d486-4a2f-bec9-3776c4dab306",
   "metadata": {},
   "outputs": [],
   "source": [
    "test_loss, test_accuracy = model.evaluate(X_test, y_test, verbose=1)\n",
    "print(\"Test loss:\", test_loss)\n",
    "print(\"Test accuracy:\", test_accuracy)\n",
    "\n",
    "y_pred_probs = model.predict(X_test)\n",
    "\n",
    "y_pred_labels = np.argmax(y_pred_probs, axis=1)\n",
    "y_true_labels = np.argmax(y_test, axis=1)\n",
    "\n",
    "print(\"True labels:\", y_true_labels)\n",
    "print(\"Predicted labels:\", y_pred_labels)"
   ]
  },
  {
   "cell_type": "code",
   "execution_count": null,
   "id": "3911edb4-b5eb-48d8-a7ac-5033270dda07",
   "metadata": {},
   "outputs": [],
   "source": [
    "import pickle"
   ]
  },
  {
   "cell_type": "code",
   "execution_count": null,
   "id": "c823ec2b-cae7-4f30-b90e-3e51adfa5b4a",
   "metadata": {},
   "outputs": [],
   "source": [
    "with open(\"image_store_2.pkl\", \"wb\") as file:\n",
    "    pickle.dump(images, file)"
   ]
  },
  {
   "cell_type": "code",
   "execution_count": null,
   "id": "ac217ce4-5c0f-48b4-92d9-671cea1380b1",
   "metadata": {},
   "outputs": [],
   "source": [
    "with open(\"label_store.pkl\", \"wb\") as file:\n",
    "    pickle.dump(labels, file)"
   ]
  },
  {
   "cell_type": "code",
   "execution_count": null,
   "id": "0fc8a122-0878-40e1-82aa-d53c0ef6f9ba",
   "metadata": {},
   "outputs": [],
   "source": [
    "for val in range(len(labels)):\n",
    "    finalLabel=[]\n",
    "    for i in range(3):\n",
    "        if labels[val][0][i]==1 or labels[val][1][i]==1:\n",
    "            finalLabel.append(1.0)\n",
    "        else:\n",
    "            finalLabel.append(0.0)\n",
    "    labels[val]=finalLabel"
   ]
  },
  {
   "cell_type": "code",
   "execution_count": null,
   "id": "643008ed-96ce-4e74-ab2e-6951e46cfb3c",
   "metadata": {},
   "outputs": [],
   "source": [
    "images=pickle.load(open(\"image_store_2.pkl\", \"rb\"))"
   ]
  },
  {
   "cell_type": "code",
   "execution_count": null,
   "id": "cc2855d6-d1b6-4dc3-bbbf-572e12dafa39",
   "metadata": {},
   "outputs": [],
   "source": [
    "labels=pickle.load(open(\"label_store.pkl\", \"rb\"))"
   ]
  },
  {
   "cell_type": "code",
   "execution_count": null,
   "id": "07fc1501-d489-4b76-8279-8e5fdd4bba7a",
   "metadata": {},
   "outputs": [],
   "source": []
  }
 ],
 "metadata": {
  "kernelspec": {
   "display_name": "Python 3 (ipykernel)",
   "language": "python",
   "name": "python3"
  },
  "language_info": {
   "codemirror_mode": {
    "name": "ipython",
    "version": 3
   },
   "file_extension": ".py",
   "mimetype": "text/x-python",
   "name": "python",
   "nbconvert_exporter": "python",
   "pygments_lexer": "ipython3",
   "version": "3.9.12"
  }
 },
 "nbformat": 4,
 "nbformat_minor": 5
}
